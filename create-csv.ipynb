{
 "cells": [
  {
   "cell_type": "code",
   "execution_count": 13,
   "metadata": {},
   "outputs": [],
   "source": [
    "import pandas as pd"
   ]
  },
  {
   "cell_type": "code",
   "execution_count": 14,
   "metadata": {},
   "outputs": [],
   "source": [
    "Clientes = pd.read_excel('data/raw/Dimensoes_DadosModelagem.xlsx', sheet_name='Clientes')\n",
    "Funcionarios = pd.read_excel('data/raw/Dimensoes_DadosModelagem.xlsx', sheet_name='Funcionarios')\n",
    "Escritorios = pd.read_excel('data/raw/Dimensoes_DadosModelagem.xlsx', sheet_name='Escritorios')\n",
    "Categoria = pd.read_excel('data/raw/Dimensoes_DadosModelagem.xlsx', sheet_name='Categoria')\n",
    "Produtos = pd.read_excel('data/raw/Dimensoes_DadosModelagem.xlsx', sheet_name='Produtos')\n",
    "Fornecedores = pd.read_excel('data/raw/Dimensoes_DadosModelagem.xlsx', sheet_name='Fornecedores')\n",
    "Vendas = pd.read_csv('data/raw/FatoDetalhes_DadosModelagem.csv', sep= ';')\n",
    "Frete = pd.read_table('data/raw/FatoCabecalho_DadosModelagem.txt', sep= '\\t')"
   ]
  },
  {
   "cell_type": "code",
   "execution_count": 15,
   "metadata": {},
   "outputs": [],
   "source": [
    "Vendas['Valor'] = Vendas['Valor'].str.replace(',', '.').astype(float)\n",
    "Vendas['Desconto'] = Vendas['Desconto'].str.replace(',', '.').astype(float)\n",
    "Vendas['Custo'] = Vendas['Custo'].str.replace(',', '.').astype(float)\n",
    "Vendas['ValorLiquido'] = Vendas['ValorLiquido'].str.replace(',', '.').astype(float)\n",
    "Frete['ValorFrete'] = Frete['ValorFrete'].str.replace(',', '.').astype(float)"
   ]
  },
  {
   "cell_type": "code",
   "execution_count": 16,
   "metadata": {},
   "outputs": [],
   "source": [
    "csvs = [Clientes, Funcionarios, Escritorios, Categoria, Produtos, Fornecedores, Vendas, Frete]\n",
    "names = ['Clientes', 'Funcionarios', 'Escritorios', 'Categoria', 'Produtos', 'Fornecedores', 'Vendas', 'Frete']\n",
    "\n",
    "for df, name in zip(csvs, names):\n",
    "  df.to_csv(f'data/{name}.csv', sep= ';', index= False)"
   ]
  }
 ],
 "metadata": {
  "kernelspec": {
   "display_name": "base",
   "language": "python",
   "name": "python3"
  },
  "language_info": {
   "codemirror_mode": {
    "name": "ipython",
    "version": 3
   },
   "file_extension": ".py",
   "mimetype": "text/x-python",
   "name": "python",
   "nbconvert_exporter": "python",
   "pygments_lexer": "ipython3",
   "version": "3.11.6"
  }
 },
 "nbformat": 4,
 "nbformat_minor": 2
}
